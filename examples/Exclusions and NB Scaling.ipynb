{
 "cells": [
  {
   "cell_type": "markdown",
   "metadata": {},
   "source": [
    "# Exclusions and NB Scaling in EEX"
   ]
  },
  {
   "cell_type": "markdown",
   "metadata": {},
   "source": [
    "Exclusions and nonbonded scaling (such as 1-2, 1-3, and 1-4 scaling) are handled in EEX using a nonbond scaling list. This list can be passed directly or built by setting 1-2, 1-3, 1-4 scaling.\n",
    "\n",
    "## Storing Scaling information\n",
    "\n",
    "Relevant functions are:  \n",
    "### dl.set_pair_scalings(scaling_df)  \n",
    "\n",
    "   This function is used to directly set scaling parameters between atoms. `scaling_df` is a dataframe with mandatory columns `atom_index1`, `atom_index2`, that also contains at least one of the columns `vdw_scale` or `coul_scale`.\n",
    "   \n",
    "#### Example\n",
    "\n",
    "` # Build scaling dataframe \n",
    "scale_df = pd.DataFrame()\n",
    "scale_df[\"coul_scale\"] = [0.0, 0.0, 0.0]\n",
    "scale_df[\"atom_index1\"] = [1,1,2]\n",
    "scale_df[\"atom_index2\"] = [2,3,3]\n",
    "scale_df[\"vdw_scale\"] = [0.5, 0.5, 0.5]`\n",
    "    \n",
    "`    # Add data to datalayer\n",
    "dl.set_pair_scalings(scale_df)`\n",
    "\n",
    "\n",
    "### dl.set_nb_scaling_factors(nb_scaling_factors) \n",
    "This function is used to set scaling factors for all atoms in a bond, angle or dihedral.\n",
    "\n",
    "Here, `nb_scaling_factors` is a dictionary of the form:\n",
    "\n",
    "`nb_scaling_factors = {\n",
    "            \"coul\":{\n",
    "                \"scale12\": \"dimensionless\",\n",
    "                \"scale13\": \"dimensionless\",\n",
    "                \"scale14\": \"dimensionless\",\n",
    "            },\n",
    "            \"vdw\":{\n",
    "                \"scale12\": \"dimensionless\",\n",
    "                \"scale13\": \"dimensionless\",\n",
    "                \"scale14\": \"dimensionless\",\n",
    "            }\n",
    "        }`\n",
    "\n",
    "### dl.build_scaling_list()\n",
    "This function uses the scaling factors set in `set_nb_scaling_factors` to build a full list of the same format as `scaling_df` in `set_pair_scalings` and stores it in the datalayer.\n",
    "\n",
    "## Retrieving Scaling information\n",
    "\n",
    "### dl.get_pair_scalings(nb_labels)\n",
    "Default for `nb_labels` is `[vdw_scale, coul_scale]` if no argument is given. This returns a pandas DataFrame with columns `atom_index1`, `atom_index2`, `coul_scale` and `vdw_scale`.\n",
    "\n",
    "### dl.get_nb_scaling_factors()\n",
    "Returns dictionary from `dl.set_nb_scaling_factors` function\n"
   ]
  },
  {
   "cell_type": "code",
   "execution_count": 1,
   "metadata": {},
   "outputs": [],
   "source": [
    "import eex"
   ]
  },
  {
   "cell_type": "code",
   "execution_count": null,
   "metadata": {},
   "outputs": [],
   "source": [
    "# Write examples here\n",
    "\n",
    "# For now, see test_datalayer.py (test_nb_scaling and test_set_nb_scaling_factors)"
   ]
  }
 ],
 "metadata": {
  "kernelspec": {
   "display_name": "Python 3",
   "language": "python",
   "name": "python3"
  },
  "language_info": {
   "codemirror_mode": {
    "name": "ipython",
    "version": 3
   },
   "file_extension": ".py",
   "mimetype": "text/x-python",
   "name": "python",
   "nbconvert_exporter": "python",
   "pygments_lexer": "ipython3",
   "version": "3.6.5"
  }
 },
 "nbformat": 4,
 "nbformat_minor": 2
}
