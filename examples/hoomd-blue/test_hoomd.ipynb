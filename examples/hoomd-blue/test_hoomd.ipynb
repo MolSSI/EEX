{
 "cells": [
  {
   "cell_type": "code",
   "execution_count": 1,
   "metadata": {
    "collapsed": false
   },
   "outputs": [],
   "source": [
    "import hoomd\n",
    "import hoomd.md\n",
    "import gsd\n",
    "import gsd.hoomd\n",
    "\n",
    "import scipy.constants as const"
   ]
  },
  {
   "cell_type": "markdown",
   "metadata": {},
   "source": [
    "# Create Alkane Systems"
   ]
  },
  {
   "cell_type": "markdown",
   "metadata": {},
   "source": [
    "## Ethane"
   ]
  },
  {
   "cell_type": "markdown",
   "metadata": {},
   "source": [
    "### Calculate FF parameters for HOOMD-Blue"
   ]
  },
  {
   "cell_type": "code",
   "execution_count": 10,
   "metadata": {
    "collapsed": false
   },
   "outputs": [
    {
     "name": "stdout",
     "output_type": "stream",
     "text": [
      "0.008444983701655409\n"
     ]
    }
   ],
   "source": [
    "#Calculate sigma and epsilon based on TraPPE FF\n",
    "epsilon = 98.0 # units of K\n",
    "# Convert to units of\n",
    "epsilon = epsilon / const.physical_constants[\"electron volt-kelvin relationship\"][0]\n",
    "print(epsilon)"
   ]
  },
  {
   "cell_type": "code",
   "execution_count": 4,
   "metadata": {
    "collapsed": false
   },
   "outputs": [],
   "source": [
    "hoomd.context.initialize(\"\");\n",
    "ethane_snap = hoomd.data.make_snapshot(N=2, box=hoomd.data.boxdim(L=5), particle_types=['C3', 'C3'],  bond_types=['alkanes'])"
   ]
  },
  {
   "cell_type": "code",
   "execution_count": 5,
   "metadata": {
    "collapsed": false
   },
   "outputs": [],
   "source": [
    "# set particle positions\n",
    "ethane_snap.particles.position[:] = [[0,0,0], [1.597649,0.000000, 0.000000]]\n",
    "\n",
    "# set particle masses\n",
    "ethane_snap.particles.mass[:] = [15.03452, 15.03452]\n",
    "\n",
    "# create bonds\n",
    "ethane_snap.bonds.resize(1)\n",
    "ethane_snap.bonds.group[:] = [[0,1]]"
   ]
  },
  {
   "cell_type": "code",
   "execution_count": 7,
   "metadata": {
    "collapsed": false
   },
   "outputs": [
    {
     "name": "stderr",
     "output_type": "stream",
     "text": [
      "**ERROR**: Cannot initialize more than once\n"
     ]
    },
    {
     "ename": "RuntimeError",
     "evalue": "Error initializing",
     "output_type": "error",
     "traceback": [
      "\u001b[0;31m---------------------------------------------------------------------------\u001b[0m",
      "\u001b[0;31mRuntimeError\u001b[0m                              Traceback (most recent call last)",
      "\u001b[0;32m<ipython-input-7-7187270d3223>\u001b[0m in \u001b[0;36m<module>\u001b[0;34m()\u001b[0m\n\u001b[0;32m----> 1\u001b[0;31m \u001b[0mhoomd\u001b[0m\u001b[0;34m.\u001b[0m\u001b[0minit\u001b[0m\u001b[0;34m.\u001b[0m\u001b[0mread_snapshot\u001b[0m\u001b[0;34m(\u001b[0m\u001b[0methane_snap\u001b[0m\u001b[0;34m)\u001b[0m\u001b[0;34m;\u001b[0m\u001b[0;34m\u001b[0m\u001b[0m\n\u001b[0m\u001b[1;32m      2\u001b[0m \u001b[0;34m\u001b[0m\u001b[0m\n\u001b[1;32m      3\u001b[0m \u001b[0;31m# set LJ and bond parameters - Actually don't need LJ for ethane.\u001b[0m\u001b[0;34m\u001b[0m\u001b[0;34m\u001b[0m\u001b[0m\n\u001b[1;32m      4\u001b[0m \u001b[0mnl\u001b[0m \u001b[0;34m=\u001b[0m \u001b[0mhoomd\u001b[0m\u001b[0;34m.\u001b[0m\u001b[0mmd\u001b[0m\u001b[0;34m.\u001b[0m\u001b[0mnlist\u001b[0m\u001b[0;34m.\u001b[0m\u001b[0mcell\u001b[0m\u001b[0;34m(\u001b[0m\u001b[0;34m)\u001b[0m\u001b[0;34m;\u001b[0m\u001b[0;34m\u001b[0m\u001b[0m\n\u001b[1;32m      5\u001b[0m \u001b[0mlj\u001b[0m \u001b[0;34m=\u001b[0m \u001b[0mhoomd\u001b[0m\u001b[0;34m.\u001b[0m\u001b[0mmd\u001b[0m\u001b[0;34m.\u001b[0m\u001b[0mpair\u001b[0m\u001b[0;34m.\u001b[0m\u001b[0mlj\u001b[0m\u001b[0;34m(\u001b[0m\u001b[0mr_cut\u001b[0m\u001b[0;34m=\u001b[0m\u001b[0;36m99.0\u001b[0m\u001b[0;34m,\u001b[0m \u001b[0mnlist\u001b[0m\u001b[0;34m=\u001b[0m\u001b[0mnl\u001b[0m\u001b[0;34m)\u001b[0m\u001b[0;34m;\u001b[0m\u001b[0;34m\u001b[0m\u001b[0m\n",
      "\u001b[0;32m/home/jessica/anaconda3/lib/python3.6/site-packages/hoomd/init.py\u001b[0m in \u001b[0;36mread_snapshot\u001b[0;34m(snapshot)\u001b[0m\n\u001b[1;32m    237\u001b[0m     \u001b[0;32mif\u001b[0m \u001b[0mis_initialized\u001b[0m\u001b[0;34m(\u001b[0m\u001b[0;34m)\u001b[0m\u001b[0;34m:\u001b[0m\u001b[0;34m\u001b[0m\u001b[0m\n\u001b[1;32m    238\u001b[0m         \u001b[0mhoomd\u001b[0m\u001b[0;34m.\u001b[0m\u001b[0mcontext\u001b[0m\u001b[0;34m.\u001b[0m\u001b[0mmsg\u001b[0m\u001b[0;34m.\u001b[0m\u001b[0merror\u001b[0m\u001b[0;34m(\u001b[0m\u001b[0;34m\"Cannot initialize more than once\\n\"\u001b[0m\u001b[0;34m)\u001b[0m\u001b[0;34m;\u001b[0m\u001b[0;34m\u001b[0m\u001b[0m\n\u001b[0;32m--> 239\u001b[0;31m         \u001b[0;32mraise\u001b[0m \u001b[0mRuntimeError\u001b[0m\u001b[0;34m(\u001b[0m\u001b[0;34m\"Error initializing\"\u001b[0m\u001b[0;34m)\u001b[0m\u001b[0;34m;\u001b[0m\u001b[0;34m\u001b[0m\u001b[0m\n\u001b[0m\u001b[1;32m    240\u001b[0m \u001b[0;34m\u001b[0m\u001b[0m\n\u001b[1;32m    241\u001b[0m     \u001b[0;31m# broadcast snapshot metadata so that all ranks have _global_box (the user may have set box only on rank 0)\u001b[0m\u001b[0;34m\u001b[0m\u001b[0;34m\u001b[0m\u001b[0m\n",
      "\u001b[0;31mRuntimeError\u001b[0m: Error initializing"
     ]
    }
   ],
   "source": [
    "hoomd.init.read_snapshot(ethane_snap);\n",
    "\n",
    "# set LJ and bond parameters - Actually don't need LJ for ethane. \n",
    "nl = hoomd.md.nlist.cell();\n",
    "lj = hoomd.md.pair.lj(r_cut=99.0, nlist=nl);\n",
    "\n",
    "\n",
    "\n",
    "sigma = 3.750 # units of angstrom\n",
    "\n",
    "lj.pair_coeff.set('A', 'A', epsilon=1.0, sigma=2.0);"
   ]
  },
  {
   "cell_type": "code",
   "execution_count": null,
   "metadata": {
    "collapsed": false
   },
   "outputs": [],
   "source": [
    "print(const.physical_constants[\"electron volt-kelvin relationship\"])"
   ]
  },
  {
   "cell_type": "markdown",
   "metadata": {},
   "source": [
    "# Example"
   ]
  },
  {
   "cell_type": "code",
   "execution_count": null,
   "metadata": {
    "collapsed": false
   },
   "outputs": [],
   "source": [
    "hoomd.context.initialize(\"\");\n",
    "\n",
    "# Initialize snapshot\n",
    "snap = hoomd.data.make_snapshot(N=4, box=hoomd.data.boxdim(L=10), particle_types=['A', 'B'], bond_types=['polymer'])\n",
    "\n",
    "# Assign coordinates\n",
    "snap.particles.position[0] = [1,2,3];\n",
    "snap.particles.position[1] = [-1,-2,-3];\n",
    "snap.particles.position[2] = [3,2,1];\n",
    "snap.particles.position[3] = [-3,-2,-1];\n",
    "\n",
    "# Define bonds\n",
    "snap.bonds.resize(2);\n",
    "snap.bonds.group[:] = [[0,1], [1, 2]]\n",
    "\n",
    "# Initialize hoomd blue (can't set forces without doing this)\n",
    "hoomd.init.read_snapshot(snap);\n",
    "\n",
    "# Set LJ parameters\n",
    "nl = hoomd.md.nlist.cell();\n",
    "lj = hoomd.md.pair.lj(r_cut=3.0, nlist=nl);\n",
    "lj.pair_coeff.set('A', 'A', epsilon=1.0, sigma=2.0);\n",
    "lj.pair_coeff.set('A', 'B', epsilon=1.0, sigma=1.0);\n",
    "lj.pair_coeff.set('B', 'B', epsilon=1.0, sigma=1.0);\n",
    "all = hoomd.group.all();\n",
    "\n",
    "# Define bond types\n",
    "bond1 = hoomd.md.bond.harmonic(name=\"polymer\")\n",
    "bond1.bond_coeff.set('polymer', k=330.0, r0=0.84)\n",
    "\n",
    "# Set up dynamics\n",
    "# hoomd.md.integrate.mode_standard(dt=0.001);\n",
    "# hoomd.md.integrate.langevin(group=all, kT=1.0, seed=987);"
   ]
  },
  {
   "cell_type": "code",
   "execution_count": null,
   "metadata": {
    "collapsed": false
   },
   "outputs": [],
   "source": [
    "s = gsd.hoomd.Snapshot()  \n",
    "s.particles.N = 4  \n",
    "s.particles.types = ['A', 'B']  \n",
    "s.particles.typeid = [0,0,1,1]  \n",
    "s.particles.position = [[0,0,0],[1,1,1], [-1,-1,-1], [1,-1,-1]]  \n",
    "s.configuration.box = [3, 3, 3, 0, 0, 0] \n",
    "s.bonds.group = [[0,1], [1, 2], [2,3]];\n",
    "s.bonds.typeid = [1,2,1]\n",
    "#s.bonds.types \n",
    "s.bonds.N = 3\n",
    "\n",
    "print(s.bonds.N, s.bonds.group, s.bonds.typeid, s.bonds.types)\n",
    "traj = gsd.hoomd.open(name='test.gsd', mode='wb')\n",
    "traj.append(s)"
   ]
  },
  {
   "cell_type": "code",
   "execution_count": null,
   "metadata": {
    "collapsed": false
   },
   "outputs": [],
   "source": [
    "# Write snapshot\n",
    "hoomd.dump.gsd(\"init.gsd\", period=None, group=all, overwrite=True);"
   ]
  },
  {
   "cell_type": "code",
   "execution_count": null,
   "metadata": {
    "collapsed": true
   },
   "outputs": [],
   "source": [
    "# Read snapshot\n",
    "snap = gsd.hoomd.open('init.gsd','rb')"
   ]
  }
 ],
 "metadata": {
  "kernelspec": {
   "display_name": "Python 3",
   "language": "python",
   "name": "python3"
  },
  "language_info": {
   "codemirror_mode": {
    "name": "ipython",
    "version": 3
   },
   "file_extension": ".py",
   "mimetype": "text/x-python",
   "name": "python",
   "nbconvert_exporter": "python",
   "pygments_lexer": "ipython3",
   "version": "3.6.0"
  }
 },
 "nbformat": 4,
 "nbformat_minor": 2
}
