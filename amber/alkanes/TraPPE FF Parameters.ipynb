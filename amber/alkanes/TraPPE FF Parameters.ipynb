{
 "cells": [
  {
   "cell_type": "markdown",
   "metadata": {},
   "source": [
    "# TRaPPE FF Parameter Conversion"
   ]
  },
  {
   "cell_type": "markdown",
   "metadata": {},
   "source": [
    "# Force Field Parameters\n",
    "\n",
    "## Nonbonded Potential\n",
    "\n",
    "\\begin{equation*}\n",
    "\\ u_{NB} = 4\\epsilon_{ij}[(\\frac{\\sigma_{ij}}r_{ij})^{12} - (\\frac{\\sigma_{ij}}r_{ij})^6]\n",
    "\\end{equation*}\n",
    "\n",
    "### Combination rules\n",
    "\n",
    "\\begin{equation*}\n",
    "\\sigma_{ij} = \\frac{1}2 (\\sigma_{ii} + \\sigma_{jj})\n",
    "\\end{equation*}\n",
    "\n",
    "\\begin{equation*}\n",
    "\\epsilon_{ij} = (\\epsilon_{ii}\\epsilon_{jj})^{1/2}\n",
    "\\end{equation*}\n",
    "\n",
    "\n",
    "### Nonbonded Parameters\n",
    "\n",
    " (psuedo)atom   | type          |  $ \\frac{\\epsilon}k_B $  [K] | $ \\sigma $ [Ang] |  q [e]   \n",
    " ---------------| :-----------: | :--------------------------: | :---------------:|:--------:\n",
    "  CH4           | CH4           | 148.0                        | 3.730            | 0.000    \n",
    "  CH3           | [CH3]-CHx     | 98.0                         | 3.750            | 0.000    \n",
    "  CH2           | CHx-[CH2]-CHx | 46.0                         | 3.950            | 0.000    \n",
    "\n",
    "## Bonded Potentials\n",
    "\n",
    "\n",
    "\n",
    "### Bond Stretching Parameters \n",
    "TraPPE uses fixed bond lengths. We will be adding flexible bonds in our implementation (to be decided which parameters to use)\n",
    "\n",
    " Type    | Length [Ang] \n",
    " ------  | :----------: \n",
    " CHx-CHy | 1.540        \n",
    "\n",
    "### Angles Bending Parameters\n",
    "\n",
    "\\begin{equation*}\n",
    "u_{bend} = \\frac{k_{\\theta}}2 (\\theta - \\theta_{eq} )^{2}\n",
    "\\end{equation*}\n",
    "\n",
    "\n",
    " Type          | $ \\theta $      |  $ \\frac{k_{\\theta}}{k_{B}} [K/rad^2] $\n",
    " ------------- | :-------------: | :------------------------:    \n",
    " CHx-(CH2)-CHx | 114.0           | 62500                         \n",
    "\n",
    "### Dihedral Potential\n",
    "\n",
    "\\begin{equation*}\n",
    "\\ u_{torsion}(\\phi) = c_{0} + c_{1}[1 + cos(\\phi)] + c_{2}[1 - cos(2\\phi)] + c_{3}[1 + cos(3\\phi)]\n",
    "\\end{equation*}\n",
    "\n",
    "\n",
    "| Type | $ \\frac{c_{0}}{k_{B}} [K] $   | $ \\frac{c_{1}}{k_{B}} [K] $ | $ \\frac{c_{2}}{k_{B}} [K] $ |  $ \\frac{c_{3}}{k_{B}} [K] $ |\n",
    "| -----------| :--------------: | :-----------------------: |:---------------:|:--------:|\n",
    "| CHx-(CH2)-(CH2)-CHy     | 0        | 355.03          | -68.19    | 791.32 |"
   ]
  },
  {
   "cell_type": "markdown",
   "metadata": {},
   "source": [
    "# Amber FF Conversion\n",
    "\n",
    "\\begin{equation*} \n",
    "\\ U_{total} = \\sum_{bonds}{k_{b}(r-r_{0})^2} + \\sum_{angles}{k_{theta}{(\\theta - \\theta_o}^2)} + \\sum_{dihedrals}{(V_{n}[1 + cos(n\\phi - \\gamma)]}) + \\sum_{i=1}^{N-1}{\\sum_{j=i+1}^{N}{ \\frac{A_{ij}}{R_{ij}^{12}} - \\frac{B_{ij}}{R_{ij}^{6}} }}\n",
    "\\end{equation*}\n",
    "\n",
    "* Note - electrostatics omitted here for TRaPPE alkanes\n",
    "\n",
    "A good resource : \n",
    "\n",
    "\n",
    "## Units\n",
    "\n",
    " Parameter Symbol  | Name                    | Units    \n",
    " ----------------- | :---------------------: | :------: \n",
    " $ k_{b} $         | Harmonic Bond Constant  |  kcal/mol/$ \\unicode{x212B}^2 $ \n",
    " $ r_{0} $         | Equilibrium Bond Length |  $ \\unicode{x212B} $\n",
    " $ k_{\\theta} $    | Harmonic Angle Constant | kcal/mol/radian$^2$\n",
    " $ \\theta_{0} $    | Equilibrium Angle       | degrees\n",
    " $ V_{n}  $        | Torsion Barrier         | kcal/mol\n",
    " $ \\gamma $        | Phase                   | degrees\n",
    " $ n      $        | Periodicity             |\n",
    " \n"
   ]
  },
  {
   "cell_type": "code",
   "execution_count": 1,
   "metadata": {
    "collapsed": true
   },
   "outputs": [],
   "source": [
    "import scipy.constants as const"
   ]
  },
  {
   "cell_type": "code",
   "execution_count": null,
   "metadata": {
    "collapsed": false
   },
   "outputs": [],
   "source": [
    "trappe_k_theta = 62500  #\n"
   ]
  }
 ],
 "metadata": {
  "anaconda-cloud": {},
  "kernelspec": {
   "display_name": "Python [default]",
   "language": "python",
   "name": "python2"
  },
  "language_info": {
   "codemirror_mode": {
    "name": "ipython",
    "version": 2
   },
   "file_extension": ".py",
   "mimetype": "text/x-python",
   "name": "python",
   "nbconvert_exporter": "python",
   "pygments_lexer": "ipython2",
   "version": "2.7.12"
  }
 },
 "nbformat": 4,
 "nbformat_minor": 1
}
