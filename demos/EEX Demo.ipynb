{
 "cells": [
  {
   "cell_type": "markdown",
   "metadata": {},
   "source": [
    "# Demo - Storing information in EEX \n",
    "\n",
    "## Requirements for Molecular Dynamics Simulations\n",
    "\n",
    "Molecular dynamics (MD) simulations are widely utilized in chemistry and materials science research. A number of softwares exist to perform simulations - each one using specific file formats. However, the basic information required by each program is the same. Equations and constants are defined which specify the interaction energy between atoms.\n",
    "\n",
    "In general, the energy expression for MD programs is a sum over all bonds, angles, dihedrals, and nonbonded interactions\n",
    "\n",
    "\\begin{equation*} \n",
    "\\ U_{total} = \\sum_{bonds}{E_{bonds}} + \\sum_{angles}{E_{angles}} + \\sum_{dihedrals}{E_{dihedrals}} + \\sum_{i=1}^{N-1}{\\sum_{j=i+1}^{N}{E_{ij} }}\n",
    "\\end{equation*}\n",
    "\n",
    "Where the forms of $E$ vary depending on the force field.\n",
    "\n",
    "The parameters which fully define the energy expression are:\n",
    "\n",
    "1. Topology of system (lists of atoms, bonds, angles, dihedrals and impropers)\n",
    "2. The functional form of the terms of the energy expression\n",
    "    e.x. - Bonds can be defined by a harmonic equation:\n",
    "    <center>\n",
    "    $E_{bonds} = {k_{b}(r-r_{0})^2}$\n",
    "    </center>\n",
    "    <br>\n",
    "3. The numerical value of constants associated with the functional forms  \n",
    "   e.x. - Keeping with the above example, we might define ${k_{b}}$ to have a value of ${2.0} kcal  mol^{-1} \\mathring A^{-2}$ for carbon - carbon bonds, with an equilbrium distance of 1.54 $\\mathring{A}$. The equation defining the bond would become <br>\n",
    "   <center>\n",
    "    $E_{bonds} = {2.0(r-1.54)^2}$\n",
    "   </center>\n",
    "   <br><br>\n",
    "4. Atomic Cartesian coordinates\n",
    "\n",
    "The specification of ${1-3}$ allow for the definition of an energy expression where the internal and external degrees of freedom are variables. Additionally, the atomic Cartesian coordinates fully define the energy expression, as they allow for the calculation of the relevant degrees of freedom of the system and thus the total energy can be computed. Typically, in a classical simulation only ${4}$ changes as the simulation progresses.\n",
    "\n",
    "Conversions of the energy expressions of systems between different MD programs essentially require reading and writing this information in the correct format for the desired softwares. \n",
    "\n",
    "## EEX's Approach\n",
    "\n",
    "The Energy Expression eXchange (EEX) is a Python program which converts the energy expression among different molecular dynamics programs. EEX uses a plug in architecture that makes the application modular, customizable, and extensible (instead of writing $N^2$, we write only $N$ translators). There are four key elements in the EEX program\n",
    "\n",
    "1. __Reader Plugins.__ Python modules that parse the relevant energy expression information from different MD programs and populate EEX's internal representation of the energy expression.\n",
    "2. __Data layer (Host application).__ Contains EEX's internal representation of the energy expression and methods that define the interface of such representation with the external world (i.e. the various reader/writer plugins or Python scripts that use EEX's API).   \n",
    "3. __Writer Plugins.__ Python modules that retrieve the EEX's energy expression representation into different MD formats.\n",
    "4. __Internal metadata.__ Relevant information that helps to define the functional forms for all the degrees of freedom (two, three, four body terms and non-bonded terms) as well as other important simulation parameters, such as which electrostatic method to use, cut-offs, box information, etc.\n",
    "\n",
    "In this demo, we will demonstrate how to create a system (united atom butane molecule) in EEX. We first specify atomic positions and topology (bonded atoms), then give bond, angle, and dihedral functional forms and parameters. \n",
    "\n",
    "In order to ensure the system specifications to match, we compare the calculated system energies. Identical systems will have identical energies."
   ]
  },
  {
   "cell_type": "code",
   "execution_count": 1,
   "metadata": {
    "collapsed": true
   },
   "outputs": [],
   "source": [
    "import eex\n",
    "import os\n",
    "import pandas as pd\n",
    "import numpy as np"
   ]
  },
  {
   "cell_type": "code",
   "execution_count": 2,
   "metadata": {},
   "outputs": [
    {
     "name": "stdout",
     "output_type": "stream",
     "text": [
      "EEX DataLayer Object\n",
      "\n",
      "System name: butane\n",
      "----------------------------------------------\n",
      "Atom Count:                 0\n",
      "Bond Count:                 0\n",
      "Angle Count:                0\n",
      "Dihedral Count:             0\n",
      "----------------------------------------------\n",
      "Number of bond parameters:     0\n",
      "Number of angle parameters:    0\n",
      "Number of dihedral parameters: 0\n",
      "----------------------------------------------\n"
     ]
    }
   ],
   "source": [
    "# Create empty data layer\n",
    "dl = eex.datalayer.DataLayer(\"butane\", backend=\"Memory\")\n",
    "dl.summary()"
   ]
  },
  {
   "cell_type": "code",
   "execution_count": 3,
   "metadata": {},
   "outputs": [
    {
     "data": {
      "text/plain": [
       "['molecule_index',\n",
       " 'atom_name',\n",
       " 'atom_type',\n",
       " 'atomic_number',\n",
       " 'charge',\n",
       " 'xyz',\n",
       " 'mass',\n",
       " 'residue_index',\n",
       " 'residue_name']"
      ]
     },
     "execution_count": 3,
     "metadata": {},
     "output_type": "execute_result"
    }
   ],
   "source": [
    "\"\"\"\n",
    "First, we add atoms to the system. Atoms have associated metadata. The possible atom metadata is listed here.\n",
    "\n",
    "\"\"\"\n",
    "\n",
    "dl.list_valid_atom_properties()\n"
   ]
  },
  {
   "cell_type": "code",
   "execution_count": 4,
   "metadata": {},
   "outputs": [
    {
     "name": "stdout",
     "output_type": "stream",
     "text": [
      "EEX DataLayer Object\n",
      "\n",
      "System name: butane\n",
      "----------------------------------------------\n",
      "Atom Count:                 4\n",
      "Bond Count:                 0\n",
      "Angle Count:                0\n",
      "Dihedral Count:             0\n",
      "----------------------------------------------\n",
      "Number of bond parameters:     0\n",
      "Number of angle parameters:    0\n",
      "Number of dihedral parameters: 0\n",
      "----------------------------------------------\n"
     ]
    },
    {
     "data": {
      "text/html": [
       "<div>\n",
       "<style scoped>\n",
       "    .dataframe tbody tr th:only-of-type {\n",
       "        vertical-align: middle;\n",
       "    }\n",
       "\n",
       "    .dataframe tbody tr th {\n",
       "        vertical-align: top;\n",
       "    }\n",
       "\n",
       "    .dataframe thead th {\n",
       "        text-align: right;\n",
       "    }\n",
       "</style>\n",
       "<table border=\"1\" class=\"dataframe\">\n",
       "  <thead>\n",
       "    <tr style=\"text-align: right;\">\n",
       "      <th></th>\n",
       "      <th>molecule_index</th>\n",
       "      <th>atom_name</th>\n",
       "      <th>atom_type</th>\n",
       "      <th>charge</th>\n",
       "      <th>X</th>\n",
       "      <th>Y</th>\n",
       "      <th>Z</th>\n",
       "      <th>mass</th>\n",
       "      <th>residue_index</th>\n",
       "    </tr>\n",
       "    <tr>\n",
       "      <th>atom_index</th>\n",
       "      <th></th>\n",
       "      <th></th>\n",
       "      <th></th>\n",
       "      <th></th>\n",
       "      <th></th>\n",
       "      <th></th>\n",
       "      <th></th>\n",
       "      <th></th>\n",
       "      <th></th>\n",
       "    </tr>\n",
       "  </thead>\n",
       "  <tbody>\n",
       "    <tr>\n",
       "      <th>0</th>\n",
       "      <td>0</td>\n",
       "      <td>C1</td>\n",
       "      <td>1</td>\n",
       "      <td>0.0</td>\n",
       "      <td>0.000</td>\n",
       "      <td>-0.4597</td>\n",
       "      <td>-1.5302</td>\n",
       "      <td>15.04520</td>\n",
       "      <td>0</td>\n",
       "    </tr>\n",
       "    <tr>\n",
       "      <th>1</th>\n",
       "      <td>0</td>\n",
       "      <td>C2</td>\n",
       "      <td>2</td>\n",
       "      <td>0.0</td>\n",
       "      <td>0.000</td>\n",
       "      <td>0.0000</td>\n",
       "      <td>0.0000</td>\n",
       "      <td>14.02658</td>\n",
       "      <td>0</td>\n",
       "    </tr>\n",
       "    <tr>\n",
       "      <th>2</th>\n",
       "      <td>0</td>\n",
       "      <td>C3</td>\n",
       "      <td>2</td>\n",
       "      <td>0.0</td>\n",
       "      <td>0.000</td>\n",
       "      <td>1.5980</td>\n",
       "      <td>0.0000</td>\n",
       "      <td>14.02658</td>\n",
       "      <td>0</td>\n",
       "    </tr>\n",
       "    <tr>\n",
       "      <th>3</th>\n",
       "      <td>0</td>\n",
       "      <td>C4</td>\n",
       "      <td>1</td>\n",
       "      <td>0.0</td>\n",
       "      <td>-1.474</td>\n",
       "      <td>1.5730</td>\n",
       "      <td>-0.6167</td>\n",
       "      <td>15.04520</td>\n",
       "      <td>0</td>\n",
       "    </tr>\n",
       "  </tbody>\n",
       "</table>\n",
       "</div>"
      ],
      "text/plain": [
       "            molecule_index atom_name  atom_type  charge      X       Y  \\\n",
       "atom_index                                                               \n",
       "0                        0        C1          1     0.0  0.000 -0.4597   \n",
       "1                        0        C2          2     0.0  0.000  0.0000   \n",
       "2                        0        C3          2     0.0  0.000  1.5980   \n",
       "3                        0        C4          1     0.0 -1.474  1.5730   \n",
       "\n",
       "                 Z      mass  residue_index  \n",
       "atom_index                                   \n",
       "0          -1.5302  15.04520              0  \n",
       "1           0.0000  14.02658              0  \n",
       "2           0.0000  14.02658              0  \n",
       "3          -0.6167  15.04520              0  "
      ]
     },
     "execution_count": 4,
     "metadata": {},
     "output_type": "execute_result"
    }
   ],
   "source": [
    "\"\"\"\n",
    "TOPOLOGY:\n",
    "\n",
    "Information can be added to the datalayer in the form of pandas dataframes. Here, we add atom metadata. \n",
    "\n",
    "The name of the column corresponds to the atom property.\n",
    "\n",
    "Populate empty dataframe with relevant information and add to EEX datalayer\n",
    "\n",
    "\"\"\"\n",
    "# Create empty dataframe\n",
    "atom_df = pd.DataFrame()\n",
    "\n",
    "# Create atomic system using pandas dataframe\n",
    "atom_df[\"atom_index\"] = np.arange(0,4)\n",
    "atom_df[\"molecule_index\"] = [int(x) for x in np.zeros(4)]\n",
    "atom_df[\"residue_index\"] = [int(x) for x in np.zeros(4)]\n",
    "atom_df[\"atom_name\"] = [\"C1\", \"C2\", \"C3\", \"C4\"]\n",
    "atom_df[\"charge\"] = np.zeros(4)\n",
    "atom_df[\"atom_type\"] = [1, 2, 2, 1]\n",
    "atom_df[\"X\"] = [0, 0, 0, -1.474]\n",
    "atom_df[\"Y\"] = [-0.4597, 0, 1.598, 1.573]\n",
    "atom_df[\"Z\"] = [-1.5302, 0, 0, -0.6167]\n",
    "atom_df[\"mass\"] = [15.0452, 14.02658, 14.02658, 15.0452]\n",
    "# Add atoms to datalayer\n",
    "dl.add_atoms(atom_df, by_value=True)\n",
    "\n",
    "# Print datalayer information\n",
    "dl.summary()\n",
    "\n",
    "# Print stored atom properties\n",
    "dl.get_atoms(properties=None, by_value=True)"
   ]
  },
  {
   "cell_type": "code",
   "execution_count": 5,
   "metadata": {
    "collapsed": true
   },
   "outputs": [],
   "source": [
    "\"\"\"\n",
    "TOPOLOGY:\n",
    "\n",
    "The EEX datalayer now contains four nonbonded atoms. To create butane, atoms must be bonded\n",
    "to one another.\n",
    "\n",
    "Add bonds to system\n",
    "\n",
    "\"\"\"\n",
    "\n",
    "# Create empty dataframes for bonds\n",
    "bond_df = pd.DataFrame()\n",
    "\n",
    "# Create column names. Here, \"term_index\" refers to the bond type index.\n",
    "# i.e. - if all bonds are the same, they will have the same term index\n",
    "bond_column_names = [\"atom1\", \"atom2\", \"term_index\"]\n",
    "\n",
    "# Create corresponding data. The first row specifies that atom0 is bonded\n",
    "# to atom 1 and has bond id 0\n",
    "bond_data = np.array([[0, 1, 0,],\n",
    "        [1, 2, 0],\n",
    "        [2, 3, 0]])\n",
    "\n",
    "for num, name in enumerate(bond_column_names):\n",
    "    bond_df[name] = bond_data[:,num]\n",
    "\n",
    "dl.add_bonds(bond_df)"
   ]
  },
  {
   "cell_type": "code",
   "execution_count": 6,
   "metadata": {},
   "outputs": [
    {
     "name": "stdout",
     "output_type": "stream",
     "text": [
      "EEX DataLayer Object\n",
      "\n",
      "System name: butane\n",
      "----------------------------------------------\n",
      "Atom Count:                 4\n",
      "Bond Count:                 3\n",
      "Angle Count:                0\n",
      "Dihedral Count:             0\n",
      "----------------------------------------------\n",
      "Number of bond parameters:     0\n",
      "Number of angle parameters:    0\n",
      "Number of dihedral parameters: 0\n",
      "----------------------------------------------\n"
     ]
    }
   ],
   "source": [
    "dl.summary()"
   ]
  },
  {
   "cell_type": "code",
   "execution_count": 7,
   "metadata": {
    "collapsed": true
   },
   "outputs": [],
   "source": [
    "\"\"\"\n",
    "TOPOLOGY:\n",
    "\n",
    "Add angles and dihedrals to system.\n",
    "\"\"\"\n",
    "\n",
    "# Follow similar procedure as for bonds\n",
    "\n",
    "angle_df = pd.DataFrame()\n",
    "dihedral_df = pd.DataFrame()\n",
    "\n",
    "angle_column_names = [\"atom1\", \"atom2\", \"atom3\", \"term_index\"]\n",
    "dihedral_column_names = [\"atom1\", \"atom2\", \"atom3\", \"atom4\", \"term_index\"]\n",
    "\n",
    "angle_data = np.array([[0, 1, 2, 0,], \n",
    "                       [1, 2, 3, 0],])\n",
    "\n",
    "dihedral_data = np.array([[0, 1, 2, 3, 0,]])\n",
    "\n",
    "for num, name in enumerate(angle_column_names):\n",
    "    angle_df[name] = angle_data[:,num]\n",
    "\n",
    "dl.add_angles(angle_df)\n",
    "    \n",
    "for num, name in enumerate(dihedral_column_names):\n",
    "    dihedral_df[name] = dihedral_data[:,num]\n",
    "    \n",
    "dl.add_dihedrals(dihedral_df)"
   ]
  },
  {
   "cell_type": "code",
   "execution_count": 8,
   "metadata": {},
   "outputs": [
    {
     "name": "stdout",
     "output_type": "stream",
     "text": [
      "EEX DataLayer Object\n",
      "\n",
      "System name: butane\n",
      "----------------------------------------------\n",
      "Atom Count:                 4\n",
      "Bond Count:                 3\n",
      "Angle Count:                2\n",
      "Dihedral Count:             1\n",
      "----------------------------------------------\n",
      "Number of bond parameters:     0\n",
      "Number of angle parameters:    0\n",
      "Number of dihedral parameters: 0\n",
      "----------------------------------------------\n"
     ]
    }
   ],
   "source": [
    "dl.summary()"
   ]
  },
  {
   "cell_type": "markdown",
   "metadata": {},
   "source": [
    "## Storing force field information\n",
    "\n",
    "So far, only the topology and coordinates of the system are specified, and we are not able to calculate an energy.\n",
    "\n",
    "To calculate the energy, we need to define the functional form of bond, angle, dihedral, and nonbonded interactions and the associated constants.\n",
    "\n",
    "In this demo, we store the parameters for the TraPPE United Atom forcefield with harmonic bonds.\n",
    "\n",
    "\\begin{equation*}\n",
    "\\ U_{total} = \\sum_{bonds}{k_{b}(r-r_{0})^2} + \\sum_{angles}{k_{\\theta} (\\theta - \\theta_{eq} )^{2}} + \\sum_{dihedrals}{c_{1}[1 + cos(\\phi)] + c_{2}[1 - cos(2\\phi)] + c_{3}[1 + cos(3\\phi)]} + \\sum_{i=1}^{N-1}{\\sum_{j=i+1}^{N}{ 4\\epsilon_{ij}[(\\frac{\\sigma_{ij}}r_{ij})^{12} - (\\frac{\\sigma_{ij}}r_{ij})^6] }}\n",
    "\\end{equation*}"
   ]
  },
  {
   "cell_type": "code",
   "execution_count": 9,
   "metadata": {},
   "outputs": [
    {
     "data": {
      "text/plain": [
       "True"
      ]
     },
     "execution_count": 9,
     "metadata": {},
     "output_type": "execute_result"
    }
   ],
   "source": [
    "\"\"\"\n",
    "FORCE FIELD PARAMETERS\n",
    "\"\"\"\n",
    "\n",
    "# Here, in add_term_parameter, the first argument is the term order. '2'\n",
    "# corresponds to bonded atoms.\n",
    "\n",
    "dl.add_term_parameter(2, \"harmonic\", {'K': 300.9, 'R0': 1.540}, uid=0, utype={'K':\"kcal * mol **-1 * angstrom ** -2\",\n",
    "                                                                         'R0': \"angstrom\"})\n",
    "\n",
    "## Add harmonic angle parameters\n",
    "dl.add_term_parameter(3, \"harmonic\", {'K': 62.100, 'theta0': 114}, uid=0, utype={'K':'kcal * mol ** -1 * radian ** -2',\n",
    "                                                                             'theta0': 'degree'})\n",
    "\n",
    "# Add OPLS dihedral parameter\n",
    "dl.add_term_parameter(4, \"opls\", {'K_1': 1.41103414, 'K_2': -0.27101489, \n",
    "                                  'K_3': 3.14502869, 'K_4': 0}, uid=0, utype={'K_1': 'kcal * mol ** -1',\n",
    "                                                                               'K_2': 'kcal * mol ** -1',\n",
    "                                                                               'K_3': 'kcal * mol ** -1',\n",
    "                                                                               'K_4': 'kcal * mol ** -1'})\n",
    "\n",
    "# Add NB parameters\n",
    "dl.add_nb_parameter(atom_type=1, atom_type2=1, nb_name=\"LJ\", \n",
    "                    nb_model=\"AB\", nb_parameters=[1.0, 1.0])\n",
    "\n",
    "dl.add_nb_parameter(atom_type=1, atom_type2=2, nb_name=\"LJ\", \n",
    "                    nb_model=\"epsilon/sigma\", nb_parameters=[1.0, 1.0])\n",
    "\n",
    "dl.add_nb_parameter(atom_type=2, atom_type2=2, nb_name=\"LJ\", \n",
    "                    nb_model=\"epsilon/sigma\", nb_parameters=[1.0, 1.0])\n",
    "\n",
    "dl.add_nb_parameter(atom_type=3, atom_type2=1, nb_name=\"LJ\", \n",
    "                    nb_model=\"epsilon/sigma\", nb_parameters=[1.0, 1.0])"
   ]
  },
  {
   "cell_type": "code",
   "execution_count": 10,
   "metadata": {},
   "outputs": [
    {
     "name": "stdout",
     "output_type": "stream",
     "text": [
      "EEX DataLayer Object\n",
      "\n",
      "System name: butane\n",
      "----------------------------------------------\n",
      "Atom Count:                 4\n",
      "Bond Count:                 3\n",
      "Angle Count:                2\n",
      "Dihedral Count:             1\n",
      "----------------------------------------------\n",
      "Number of bond parameters:     1\n",
      "Number of angle parameters:    1\n",
      "Number of dihedral parameters: 1\n",
      "----------------------------------------------\n"
     ]
    }
   ],
   "source": [
    "dl.summary()"
   ]
  },
  {
   "cell_type": "code",
   "execution_count": 11,
   "metadata": {
    "collapsed": true
   },
   "outputs": [],
   "source": [
    "# Evaluate system energy\n",
    "energy_system1 = dl.evaluate(utype=\"kcal * mol ** -1\")"
   ]
  },
  {
   "cell_type": "markdown",
   "metadata": {},
   "source": [
    "## Reading from MD input files\n",
    "\n",
    "Typically, this storage would not be done by hand as shown above. Instead, readers and writers for specific softwares are used.\n",
    "\n",
    "Below, we use the plugin for AMBER with EEX to read in an amber file with information for the a butane molecule which is equivalent to the one created in the first datalayer. The EEX translator stores all information from the amber prmtop and inpcrd files in the datalayer using the amber reader."
   ]
  },
  {
   "cell_type": "code",
   "execution_count": 12,
   "metadata": {},
   "outputs": [
    {
     "name": "stdout",
     "output_type": "stream",
     "text": [
      "%VERSION  VERSION_STAMP = V0001.000  DATE = 11/13/17  15:35:01                  \n",
      "%FLAG TITLE                                                                     \n",
      "%FORMAT(20a4)                                                                   \n",
      "Cpptraj                                                                         \n",
      "%FLAG POINTERS                                                                  \n",
      "%FORMAT(10I8)                                                                   \n",
      "       4       2       0       3       0       2       0       4       0       0\n",
      "       7       1       3       2       4       2       1       4       2       0\n",
      "       0       0       0       0       0       0       0       0       4       0\n",
      "       0\n",
      "%FLAG ATOM_NAME                                                                 \n",
      "%FORMAT(20a4)                                                                   \n",
      "C1  C2  C3  C4  \n",
      "%FLAG CHARGE                                                                    \n",
      "%FORMAT(5E16.8)                                                                 \n",
      "  0.00000000E+00  0.00000000E+00  0.00000000E+00  0.00000000E+00\n",
      "%FLAG ATOMIC_NUMBER                                                             \n",
      "%FORMAT(10I8)                                                                   \n",
      "       6       6       6       6\n",
      "%FLAG MASS                                                                      \n",
      "%FORMAT(5E16.8)                                                                 \n",
      "  1.50452000E+01  1.40265800E+01  1.40265800E+01  1.50452000E+01\n",
      "%FLAG ATOM_TYPE_INDEX                                                           \n",
      "%FORMAT(10I8)                                                                   \n",
      "       1       2       2       1\n",
      "%FLAG NUMBER_EXCLUDED_ATOMS                                                     \n",
      "%FORMAT(10I8)                                                                   \n",
      "       3       2       1       1\n",
      "%FLAG NONBONDED_PARM_INDEX                                                      \n",
      "%FORMAT(10I8)                                                                   \n",
      "       1       2       2       3\n",
      "%FLAG RESIDUE_LABEL                                                             \n",
      "%FORMAT(20a4)                                                                   \n",
      "BUT \n",
      "%FLAG RESIDUE_POINTER                                                           \n",
      "%FORMAT(10I8)                                                                   \n",
      "       1\n",
      "%FLAG BOND_FORCE_CONSTANT                                                       \n",
      "%FORMAT(5E16.8)                                                                 \n",
      "  3.00900000E+02  3.00900000E+02\n",
      "%FLAG BOND_EQUIL_VALUE                                                          \n",
      "%FORMAT(5E16.8)                                                                 \n",
      "  1.54000000E+00  1.54000000E+00\n",
      "%FLAG ANGLE_FORCE_CONSTANT                                                      \n",
      "%FORMAT(5E16.8)                                                                 \n",
      "  6.21001125E+01\n",
      "%FLAG ANGLE_EQUIL_VALUE                                                         \n",
      "%FORMAT(5E16.8)                                                                 \n",
      "  1.98967620E+00\n",
      "%FLAG DIHEDRAL_FORCE_CONSTANT                                                   \n",
      "%FORMAT(5E16.8)                                                                 \n",
      "  0.00000000E+00  7.05516894E-01 -1.35507413E-01  1.57251395E+00\n",
      "%FLAG DIHEDRAL_PERIODICITY                                                      \n",
      "%FORMAT(5E16.8)                                                                 \n",
      "  0.00000000E+00  1.00000000E+00  2.00000000E+00  3.00000000E+00\n",
      "%FLAG DIHEDRAL_PHASE                                                            \n",
      "%FORMAT(5E16.8)                                                                 \n",
      "  0.00000000E+00  0.00000000E+00 -3.14159400E+00  0.00000000E+00\n",
      "%FLAG SCEE_SCALE_FACTOR                                                         \n",
      "%FORMAT(5E16.8)                                                                 \n",
      "  0.00000000E+00  0.00000000E+00  0.00000000E+00  0.00000000E+00\n",
      "%FLAG SCNB_SCALE_FACTOR                                                         \n",
      "%FORMAT(5E16.8)                                                                 \n",
      "  0.00000000E+00  0.00000000E+00  0.00000000E+00  0.00000000E+00\n",
      "%FLAG SOLTY                                                                     \n",
      "%FORMAT(5E16.8)                                                                 \n",
      "  0.00000000E+00  0.00000000E+00\n",
      "%FLAG LENNARD_JONES_ACOEF                                                       \n",
      "%FORMAT(5E16.8)                                                                 \n",
      "  6.02425914E+06  5.66008645E+06  5.27503488E+06\n",
      "%FLAG LENNARD_JONES_BCOEF                                                       \n",
      "%FORMAT(5E16.8)                                                                 \n",
      "  2.16628722E+03  1.73803568E+03  1.38880977E+03\n",
      "%FLAG BONDS_INC_HYDROGEN                                                        \n",
      "%FORMAT(10I8)                                                                   \n",
      "\n",
      "%FLAG BONDS_WITHOUT_HYDROGEN                                                    \n",
      "%FORMAT(10I8)                                                                   \n",
      "       0       3       1       3       6       2       6       9       1\n",
      "%FLAG ANGLES_INC_HYDROGEN                                                       \n",
      "%FORMAT(10I8)                                                                   \n",
      "\n",
      "%FLAG ANGLES_WITHOUT_HYDROGEN                                                   \n",
      "%FORMAT(10I8)                                                                   \n",
      "       0       3       6       1       3       6       9       1\n",
      "%FLAG DIHEDRALS_INC_HYDROGEN                                                    \n",
      "%FORMAT(10I8)                                                                   \n",
      "\n",
      "%FLAG DIHEDRALS_WITHOUT_HYDROGEN                                                \n",
      "%FORMAT(10I8)                                                                   \n",
      "       0       3       6       9       1       0       3      -6       9       2\n",
      "       0       3      -6       9       3       0       3      -6       9       4\n",
      "%FLAG EXCLUDED_ATOMS_LIST                                                       \n",
      "%FORMAT(10I8)                                                                   \n",
      "       2       3       4       3       4       4       0\n",
      "%FLAG HBOND_ACOEF                                                               \n",
      "%FORMAT(5E16.8)                                                                 \n",
      "\n",
      "%FLAG HBOND_BCOEF                                                               \n",
      "%FORMAT(5E16.8)                                                                 \n",
      "\n",
      "%FLAG HBCUT                                                                     \n",
      "%FORMAT(5E16.8)                                                                 \n",
      "\n",
      "%FLAG AMBER_ATOM_TYPE                                                           \n",
      "%FORMAT(20a4)                                                                   \n",
      "C3  C2  C2  C3  \n",
      "%FLAG TREE_CHAIN_CLASSIFICATION                                                 \n",
      "%FORMAT(20a4)                                                                   \n",
      "BLA BLA BLA BLA \n",
      "%FLAG JOIN_ARRAY                                                                \n",
      "%FORMAT(10I8)                                                                   \n",
      "       0       0       0       0\n",
      "%FLAG IROTAT                                                                    \n",
      "%FORMAT(10I8)                                                                   \n",
      "       0       0       0       0\n",
      "%FLAG RADIUS_SET                                                                \n",
      "%FORMAT(1a80)                                                                   \n",
      "modified Bondi radii (mbondi)                                                   \n",
      "%FLAG RADII                                                                     \n",
      "%FORMAT(5E16.8)                                                                 \n",
      "  1.50000000E+00  1.50000000E+00  1.50000000E+00  1.50000000E+00\n",
      "%FLAG SCREEN                                                                    \n",
      "%FORMAT(5E16.8)                                                                 \n",
      "  8.00000000E-01  8.00000000E-01  8.00000000E-01  8.00000000E-01\n",
      "%FLAG IPOL                                                                      \n",
      "%FORMAT(1I8)                                                                    \n",
      "       0\n",
      "\n"
     ]
    }
   ],
   "source": [
    "# Preview an amber prmtop (parameter-topology file) for Amber.\n",
    "butane_file = os.path.join(\"..\", \"examples\", \"amber\",\"alkanes\", \"trappe_butane_single_molecule.prmtop\")\n",
    "\n",
    "f = open(butane_file)\n",
    "print(f.read())\n",
    "f.close()"
   ]
  },
  {
   "cell_type": "code",
   "execution_count": 13,
   "metadata": {},
   "outputs": [
    {
     "name": "stdout",
     "output_type": "stream",
     "text": [
      "EEX DataLayer Object\n",
      "\n",
      "System name: butane_amber\n",
      "----------------------------------------------\n",
      "Atom Count:                 4\n",
      "Bond Count:                 3\n",
      "Angle Count:                2\n",
      "Dihedral Count:             4\n",
      "----------------------------------------------\n",
      "Number of bond parameters:     2\n",
      "Number of angle parameters:    1\n",
      "Number of dihedral parameters: 4\n",
      "----------------------------------------------\n"
     ]
    }
   ],
   "source": [
    "# Create new datalayer and populate using amber reader\n",
    "\n",
    "dl_amber = eex.datalayer.DataLayer(\"butane_amber\")\n",
    "eex.translators.amber.read_amber_file(dl_amber, butane_file)\n",
    "\n",
    "dl_amber.summary()"
   ]
  },
  {
   "cell_type": "markdown",
   "metadata": {},
   "source": [
    "## Comparing the two datalayers\n",
    "The summary shows a system with 4 atom, 3 bonds, 2 angles and 4 dihedrals.  This differs from the first datalayer in the number of dihedrals and the number of dihedral parameters. However, the evaluated system energy is equivalent.\n",
    "\n",
    "This is because AMBER stores dihedral angles using a different functional form. Instead of a single equation, dihedrals with multiple terms are built from multiple harmonic equations. The equations are equivalent when evaluated.\n",
    "\n",
    "\\begin{equation*} \n",
    "\\sum_{dihedrals}{(V_{0}[1 + cos(0\\phi)]}) + \\sum_{dihedrals}{(V_{1}[1 + cos(n\\phi)]}) + \\sum_{dihedrals}{(V_{2}[1 + cos(2\\phi - \\pi)]}) + \\sum_{dihedrals}{(V_{3}[1 + cos(3\\phi )]}) = \\sum_{dihedrals}{c_{0} + c_{1}[1 + cos(\\phi)] + c_{2}[1 - cos(2\\phi)] + c_{3}[1 + cos(3\\phi)]}\n",
    "\\end{equation*}"
   ]
  },
  {
   "cell_type": "code",
   "execution_count": 14,
   "metadata": {
    "collapsed": true
   },
   "outputs": [],
   "source": [
    "energy_system2 = dl_amber.evaluate(utype=\"kcal * mol ** -1\")"
   ]
  },
  {
   "cell_type": "code",
   "execution_count": 15,
   "metadata": {},
   "outputs": [
    {
     "name": "stdout",
     "output_type": "stream",
     "text": [
      "two-body  difference:\t -0.000\n",
      "three-body  difference:\t -0.000\n",
      "four-body  difference:\t 0.000\n",
      "total  difference:\t -0.000\n"
     ]
    }
   ],
   "source": [
    "for k in energy_system1:\n",
    "    energy_difference = energy_system1[k] - energy_system2[k]\n",
    "    print(k,\" difference:\\t %.3f\" % energy_difference)"
   ]
  },
  {
   "cell_type": "code",
   "execution_count": null,
   "metadata": {
    "collapsed": true
   },
   "outputs": [],
   "source": []
  }
 ],
 "metadata": {
  "kernelspec": {
   "display_name": "Python 3",
   "language": "python",
   "name": "python3"
  },
  "language_info": {
   "codemirror_mode": {
    "name": "ipython",
    "version": 3
   },
   "file_extension": ".py",
   "mimetype": "text/x-python",
   "name": "python",
   "nbconvert_exporter": "python",
   "pygments_lexer": "ipython3",
   "version": "3.6.1"
  }
 },
 "nbformat": 4,
 "nbformat_minor": 2
}
