{
 "cells": [
  {
   "cell_type": "markdown",
   "metadata": {},
   "source": [
    "# Demo - Storing information in EEX \n",
    "\n",
    "## Requirements for Molecular Dynamics Simulations\n",
    "\n",
    "Molecular dynamics (MD) simulations are widely utilized in chemistry and materials science research. A number of softwares exist to perform simulations - each one using specific file formats. However, the basic information required by each program is the same. Equations and constants are defined which specify the interaction energy between atoms.\n",
    "\n",
    "In general, the energy expression for MD programs is a sum over all bonds, angles, dihedrals, and nonbonded interactions\n",
    "\n",
    "\\begin{equation*} \n",
    "\\ U_{total} = \\sum_{bonds}{E_{bonds}} + \\sum_{angles}{E_{angles}} + \\sum_{dihedrals}{E_{dihedrals}} + \\sum_{i=1}^{N-1}{\\sum_{j=i+1}^{N}{E_{ij} }}\n",
    "\\end{equation*}\n",
    "\n",
    "Where the forms of $E$ vary depending on the force field.\n",
    "\n",
    "The parameters which fully define the energy expression are:\n",
    "\n",
    "1. Topology of system (lists of atoms, bonds, angles, dihedrals and impropers)\n",
    "2. The functional form of the terms of the energy expression\n",
    "    e.x. - Bonds can be defined by a harmonic equation:\n",
    "    <center>\n",
    "    $E_{bonds} = {k_{b}(r-r_{0})^2}$\n",
    "    </center>\n",
    "    <br>\n",
    "3. The numerical value of constants associated with the functional forms  \n",
    "   e.x. - Keeping with the above example, we might define ${k_{b}}$ to have a value of ${2.0} kcal  mol^{-1} \\mathring A^{-2}$ for carbon - carbon bonds, with an equilbrium distance of 1.54 $\\mathring{A}$. The equation defining the bond would become <br>\n",
    "   <center>\n",
    "    $E_{bonds} = {2.0(r-1.54)^2}$\n",
    "   </center>\n",
    "   <br><br>\n",
    "4. Atomic Cartesian coordinates\n",
    "\n",
    "The specification of ${1-3}$ allow for the definition of an energy expression where the internal and external degrees of freedom are variables. Additionally, the atomic Cartesian coordinates fully define the energy expression, as they allow for the calculation of the relevant degrees of freedom of the system and thus the total energy can be computed. Typically, in a classical simulation only ${4}$ changes as the simulation progresses.\n",
    "\n",
    "Conversions of the energy expressions of systems between different MD programs essentially require reading and writing this information in the correct format for the desired softwares. \n",
    "\n",
    "## EEX's Approach\n",
    "\n",
    "The Energy Expression eXchange (EEX) is a Python program which converts the energy expression among different molecular dynamics programs. EEX uses a plug in architecture that makes the application modular, customizable, and extensible (instead of writing $N^2$, we write only $N$ translators). There are four key elements in the EEX program\n",
    "\n",
    "1. __Reader Plugins.__ Python modules that parse the relevant energy expression information from different MD programs and populate EEX's internal representation of the energy expression.\n",
    "2. __Data layer (Host application).__ Contains EEX's internal representation of the energy expression and methods that define the interface of such representation with the external world (i.e. the various reader/writer plugins or Python scripts that use EEX's API).   \n",
    "3. __Writer Plugins.__ Python modules that retrieve the EEX's energy expression representation into different MD formats.\n",
    "4. __Internal metadata.__ Relevant information that helps to define the functional forms for all the degrees of freedom (two, three, four body terms and non-bonded terms) as well as other important simulation parameters, such as which electrostatic method to use, cut-offs, box information, etc.\n",
    "\n",
    "In this demo, we will demonstrate how to create a system (united atom butane molecule) in EEX. We first specify atomic positions and topology (bonded atoms), then give bond, angle, and dihedral functional forms and parameters. \n",
    "\n",
    "In order to ensure the system specifications to match, we compare the calculated system energies. Identical systems will have identical energies."
   ]
  },
  {
   "cell_type": "code",
   "execution_count": null,
   "metadata": {},
   "outputs": [],
   "source": [
    "import eex\n",
    "import os\n",
    "import pandas as pd\n",
    "import numpy as np"
   ]
  },
  {
   "cell_type": "code",
   "execution_count": null,
   "metadata": {},
   "outputs": [],
   "source": [
    "# Create empty data layer\n",
    "dl = eex.datalayer.DataLayer(\"butane\", backend=\"Memory\")\n",
    "dl.summary()"
   ]
  },
  {
   "cell_type": "code",
   "execution_count": null,
   "metadata": {},
   "outputs": [],
   "source": [
    "\"\"\"\n",
    "First, we add atoms to the system. Atoms have associated metadata. The possible atom metadata is listed here.\n",
    "\n",
    "\"\"\"\n",
    "\n",
    "dl.list_valid_atom_properties()\n"
   ]
  },
  {
   "cell_type": "code",
   "execution_count": null,
   "metadata": {},
   "outputs": [],
   "source": [
    "\"\"\"\n",
    "TOPOLOGY:\n",
    "\n",
    "Information can be added to the datalayer in the form of pandas dataframes. Here, we add atom metadata. \n",
    "\n",
    "The name of the column corresponds to the atom property.\n",
    "\n",
    "Populate empty dataframe with relevant information and add to EEX datalayer\n",
    "\n",
    "\"\"\"\n",
    "# Create empty dataframe\n",
    "atom_df = pd.DataFrame()\n",
    "\n",
    "# Create atomic system using pandas dataframe\n",
    "atom_df[\"atom_index\"] = np.arange(0,4)\n",
    "atom_df[\"molecule_index\"] = [int(x) for x in np.zeros(4)]\n",
    "atom_df[\"residue_index\"] = [int(x) for x in np.zeros(4)]\n",
    "atom_df[\"atom_name\"] = [\"C1\", \"C2\", \"C3\", \"C4\"]\n",
    "atom_df[\"charge\"] = np.zeros(4)\n",
    "atom_df[\"atom_type\"] = [1, 2, 2, 1]\n",
    "atom_df[\"X\"] = [0, 0, 0, -1.474]\n",
    "atom_df[\"Y\"] = [-0.4597, 0, 1.598, 1.573]\n",
    "atom_df[\"Z\"] = [-1.5302, 0, 0, -0.6167]\n",
    "atom_df[\"mass\"] = [15.0452, 14.02658, 14.02658, 15.0452]\n",
    "\n",
    "# Add atoms to datalayer\n",
    "dl.add_atoms(atom_df, by_value=True)\n",
    "\n",
    "# Print datalayer information\n",
    "dl.summary()\n",
    "\n",
    "# Print stored atom properties\n",
    "dl.get_atoms(properties=None, by_value=True)"
   ]
  },
  {
   "cell_type": "code",
   "execution_count": null,
   "metadata": {},
   "outputs": [],
   "source": [
    "\"\"\"\n",
    "TOPOLOGY:\n",
    "\n",
    "The EEX datalayer now contains four nonbonded atoms. To create butane, atoms must be bonded\n",
    "to one another.\n",
    "\n",
    "Add bonds to system\n",
    "\n",
    "\"\"\"\n",
    "\n",
    "# Create empty dataframes for bonds\n",
    "bond_df = pd.DataFrame()\n",
    "\n",
    "# Create column names. Here, \"term_index\" refers to the bond type index.\n",
    "# i.e. - if all bonds are the same type, they will have the same term index\n",
    "bond_column_names = [\"atom1\", \"atom2\", \"term_index\"]\n",
    "\n",
    "# Create corresponding data. The first row specifies that atom0 is bonded\n",
    "# to atom 1 and has bond_type id 0\n",
    "bond_data = np.array([[0, 1, 0,],\n",
    "        [1, 2, 0],\n",
    "        [2, 3, 0]])\n",
    "\n",
    "for num, name in enumerate(bond_column_names):\n",
    "    bond_df[name] = bond_data[:,num]\n",
    "\n",
    "dl.add_bonds(bond_df)"
   ]
  },
  {
   "cell_type": "code",
   "execution_count": null,
   "metadata": {},
   "outputs": [],
   "source": [
    "dl.summary()"
   ]
  },
  {
   "cell_type": "code",
   "execution_count": null,
   "metadata": {},
   "outputs": [],
   "source": [
    "\"\"\"\n",
    "TOPOLOGY:\n",
    "\n",
    "Add angles and dihedrals to system.\n",
    "\"\"\"\n",
    "\n",
    "# Follow similar procedure as for bonds\n",
    "\n",
    "angle_df = pd.DataFrame()\n",
    "dihedral_df = pd.DataFrame()\n",
    "\n",
    "angle_column_names = [\"atom1\", \"atom2\", \"atom3\", \"term_index\"]\n",
    "dihedral_column_names = [\"atom1\", \"atom2\", \"atom3\", \"atom4\", \"term_index\"]\n",
    "\n",
    "angle_data = np.array([[0, 1, 2, 0,], \n",
    "                       [1, 2, 3, 0],])\n",
    "\n",
    "dihedral_data = np.array([[0, 1, 2, 3, 0,]])\n",
    "\n",
    "for num, name in enumerate(angle_column_names):\n",
    "    angle_df[name] = angle_data[:,num]\n",
    "\n",
    "dl.add_angles(angle_df)\n",
    "    \n",
    "for num, name in enumerate(dihedral_column_names):\n",
    "    dihedral_df[name] = dihedral_data[:,num]\n",
    "    \n",
    "dl.add_dihedrals(dihedral_df)"
   ]
  },
  {
   "cell_type": "code",
   "execution_count": null,
   "metadata": {},
   "outputs": [],
   "source": [
    "dl.summary()"
   ]
  },
  {
   "cell_type": "markdown",
   "metadata": {},
   "source": [
    "## Storing force field information\n",
    "\n",
    "So far, only the topology and coordinates of the system are specified, and we are not able to calculate an energy.\n",
    "\n",
    "To calculate the energy, we need to define the functional form of bond, angle, dihedral, and nonbonded interactions and the associated constants.\n",
    "\n",
    "In this demo, we store the parameters for the TraPPE United Atom forcefield with harmonic bonds.\n",
    "\n",
    "\\begin{equation*}\n",
    "\\ U_{total} = \\sum_{bonds}{k_{b}(r-r_{0})^2} + \\sum_{angles}{k_{\\theta} (\\theta - \\theta_{eq} )^{2}} + \\sum_{dihedrals}{c_{1}[1 + cos(\\phi)] + c_{2}[1 - cos(2\\phi)] + c_{3}[1 + cos(3\\phi)]} + \\sum_{i=1}^{N-1}{\\sum_{j=i+1}^{N}{ 4\\epsilon_{ij}[(\\frac{\\sigma_{ij}}r_{ij})^{12} - (\\frac{\\sigma_{ij}}r_{ij})^6] }}\n",
    "\\end{equation*}"
   ]
  },
  {
   "cell_type": "code",
   "execution_count": null,
   "metadata": {},
   "outputs": [],
   "source": [
    "\"\"\"\n",
    "EEX FORCE FIELD PARAMETERS\n",
    "\n",
    "A main component of EEX is internally stored metadata which defines details functional forms including form, constants,\n",
    "unit types, and default units (if the user does not overrride this option). \n",
    "\n",
    "This metadata is stored as human readable dictionaries which can easily be added or maninpulated.\n",
    "\"\"\"\n",
    "\n",
    "# Here, we examine the metadata present in the bond metadata for a harmonic bond\n",
    "bond_metadata = eex.metadata.two_body_terms.two_body_metadata\n",
    "\n",
    "for k, v in bond_metadata[\"forms\"][\"harmonic\"].items():\n",
    "    print(k, v)"
   ]
  },
  {
   "cell_type": "code",
   "execution_count": null,
   "metadata": {},
   "outputs": [],
   "source": [
    "\"\"\"\n",
    "FORCE FIELD PARAMETERS\n",
    "\n",
    "To add bonds (or other parameters) using this metadata, the user specifies the form using a keyword (\"harmonic\") that\n",
    "matches to EEX's metadata. \n",
    "\n",
    "Values for the contstants are passed using a dictionary with the 'parameters' defined in the metadata as keys.\n",
    "\n",
    "Each bond type is given a uid, and default dimensions may be overwritten by the user using a dictionary \n",
    "and the 'utype' argument\n",
    "\"\"\"\n",
    "\n",
    "# Here, in add_term_parameter, the first argument is the term order. '2'\n",
    "# corresponds to bonded atoms.\n",
    "\n",
    "dl.add_term_parameter(2, \"harmonic\", {'K': 300.9, 'R0': 1.540}, uid=0, utype={'K':\"kcal * mol **-1 * angstrom ** -2\",\n",
    "                                                                         'R0': \"angstrom\"})"
   ]
  },
  {
   "cell_type": "code",
   "execution_count": null,
   "metadata": {},
   "outputs": [],
   "source": [
    "# If  units or parameters are not compatible with the metadata, the datalayer will not allow storage of the parameter.\n",
    "# Here, we have changed 'K' to simply \"kcal\". This will fail (uncomment to test)\n",
    "\n",
    "#dl.add_term_parameter(2, \"harmonic\", {'K': 300.9, 'R0': 1.540}, uid=0, utype={'K':\"kcal\",'R0': \"angstrom\"})"
   ]
  },
  {
   "cell_type": "code",
   "execution_count": null,
   "metadata": {},
   "outputs": [],
   "source": [
    "## Add harmonic angle parameters\n",
    "dl.add_term_parameter(3, \"harmonic\", {'K': 62.100, 'theta0': 114}, uid=0, utype={'K':'kcal * mol ** -1 * radian ** -2',\n",
    "                                                                             'theta0': 'degree'})\n",
    "\n",
    "# Add OPLS dihedral parameter\n",
    "dl.add_term_parameter(4, \"opls\", {'K_1': 1.41103414, 'K_2': -0.27101489, \n",
    "                                  'K_3': 3.14502869, 'K_4': 0}, uid=0, utype={'K_1': 'kcal * mol ** -1',\n",
    "                                                                               'K_2': 'kcal * mol ** -1',\n",
    "                                                                               'K_3': 'kcal * mol ** -1',\n",
    "                                                                               'K_4': 'kcal * mol ** -1'})"
   ]
  },
  {
   "cell_type": "code",
   "execution_count": null,
   "metadata": {},
   "outputs": [],
   "source": [
    "\"\"\"\n",
    "NONBOND PARAMETERS\n",
    "\n",
    "For nonbond parametets, we currently provide support for Lennard Jones and Buckingham potentials\n",
    "\n",
    "Most programs use pair-wise Lennard Jones potentials for nonbond interactions. Our internal metadata stores these as A\n",
    "and B parameters. However, uses may specify other forms such as epsilon/sigma, epsilon, Rmin, etc.\n",
    "\n",
    "Lennard Jones parameters can be added as a pair (atom_type1, atom_type2) or for a single atom type with a mixing rule.\n",
    "\n",
    "\"\"\"\n",
    "\n",
    "dl.add_nb_parameter(atom_type=1, nb_name=\"LJ\", \n",
    "                    nb_model=\"epsilon/sigma\", nb_parameters={'sigma': 3.75, 'epsilon': 0.1947460018}, \n",
    "                    utype={'sigma': 'angstrom', 'epsilon': 'kcal * mol ** -1'})\n",
    "\n",
    "dl.add_nb_parameter(atom_type=2, nb_name=\"LJ\", \n",
    "                    nb_model=\"epsilon/sigma\", nb_parameters={'sigma': 3.95, 'epsilon': 0.0914112887},\n",
    "                    utype={'sigma': 'angstrom', 'epsilon': 'kcal * mol ** -1'})\n",
    "\n",
    "dl.set_mixing_rule('lorentz-berthelot')"
   ]
  },
  {
   "cell_type": "code",
   "execution_count": null,
   "metadata": {},
   "outputs": [],
   "source": [
    "# Retrieve stored parameters\n",
    "\n",
    "print(\"All stored parameters\\n\", dl.list_nb_parameters(\"LJ\"), \"\\n\\n\")\n",
    "\n",
    "# To apply the mixing rule:\n",
    "dl.build_LJ_mixing_table()\n",
    "\n",
    "print(\"All stored parameters\\n\", dl.list_nb_parameters(\"LJ\"), \"\\n\\n\")\n",
    "\n",
    "# These can also be retrieved for only single atoms, or for atom pairs by using itype='single' or itype='pairs'\n",
    "pair_interactions = dl.list_nb_parameters(\"LJ\", itype=\"pair\")\n",
    "\n",
    "print(\"Pair parameters\\n\", pair_interactions)"
   ]
  },
  {
   "cell_type": "markdown",
   "metadata": {},
   "source": [
    "Alternatively, these could have been set directly as pairs without a mixing rule.\n",
    "\n",
    "`# Add NB parameters with pairs`\n",
    "\n",
    "`dl.add_nb_parameter(atom_type=1, atom_type2=1, nb_name=\"LJ\", nb_model=\"AB\", nb_parameters=[1.0, 1.0])`\n",
    "\n",
    "`dl.add_nb_parameter(atom_type=1, atom_type2=2, nb_name=\"LJ\", nb_model=\"epsilon/sigma\", nb_parameters=[1.0, 1.0])`\n",
    "\n",
    "`dl.add_nb_parameter(atom_type=2, atom_type2=2, nb_name=\"LJ\", nb_model=\"epsilon/sigma\", nb_parameters=[1.0, 1.0])`\n",
    "\n",
    "\n"
   ]
  },
  {
   "cell_type": "code",
   "execution_count": null,
   "metadata": {},
   "outputs": [],
   "source": [
    "dl.summary()"
   ]
  },
  {
   "cell_type": "code",
   "execution_count": null,
   "metadata": {},
   "outputs": [],
   "source": [
    "# Evaluate system energy\n",
    "energy_system1 = dl.evaluate(utype=\"kcal * mol ** -1\")\n",
    "\n",
    "print(energy_system1)"
   ]
  },
  {
   "cell_type": "markdown",
   "metadata": {},
   "source": [
    "## Reading from MD input files\n",
    "\n",
    "Typically, this storage would not be done by hand as shown above. Instead, readers and writers for specific softwares are used.\n",
    "\n",
    "Below, we use the plugin for AMBER with EEX to read in an amber file with information for the a butane molecule which is equivalent to the one created in the first datalayer. The EEX translator stores all information from the amber prmtop and inpcrd files in the datalayer using the amber reader."
   ]
  },
  {
   "cell_type": "code",
   "execution_count": null,
   "metadata": {},
   "outputs": [],
   "source": [
    "# Preview an amber prmtop (parameter-topology file) for Amber.\n",
    "butane_file = os.path.join(\"..\", \"examples\", \"amber\",\"alkanes\", \"trappe_butane_single_molecule.prmtop\")\n",
    "\n",
    "f = open(butane_file)\n",
    "print(f.read())\n",
    "f.close()"
   ]
  },
  {
   "cell_type": "code",
   "execution_count": null,
   "metadata": {},
   "outputs": [],
   "source": [
    "# Create new datalayer and populate using amber reader\n",
    "\n",
    "dl_amber = eex.datalayer.DataLayer(\"butane_amber\")\n",
    "eex.translators.amber.read_amber_file(dl_amber, butane_file)\n",
    "\n",
    "dl_amber.summary()"
   ]
  },
  {
   "cell_type": "markdown",
   "metadata": {},
   "source": [
    "## Comparing the two datalayers\n",
    "The summary shows a system with 4 atom, 3 bonds, 2 angles and 4 dihedrals.  This differs from the first datalayer in the number of dihedrals and the number of dihedral parameters. However, the evaluated system energy is equivalent.\n",
    "\n",
    "This is because AMBER stores dihedral angles using a different functional form. Instead of a single equation, dihedrals with multiple terms are built from multiple harmonic equations. The equations are equivalent when evaluated.\n",
    "\n",
    "\\begin{equation*} \n",
    "\\sum_{dihedrals}{(V_{0}[1 + cos(0\\phi)]}) + \\sum_{dihedrals}{(V_{1}[1 + cos(n\\phi)]}) + \\sum_{dihedrals}{(V_{2}[1 + cos(2\\phi - \\pi)]}) + \\sum_{dihedrals}{(V_{3}[1 + cos(3\\phi )]}) = \\sum_{dihedrals}{c_{0} + c_{1}[1 + cos(\\phi)] + c_{2}[1 - cos(2\\phi)] + c_{3}[1 + cos(3\\phi)]}\n",
    "\\end{equation*}"
   ]
  },
  {
   "cell_type": "code",
   "execution_count": null,
   "metadata": {},
   "outputs": [],
   "source": [
    "energy_system2 = dl_amber.evaluate(utype=\"kcal * mol ** -1\")"
   ]
  },
  {
   "cell_type": "code",
   "execution_count": null,
   "metadata": {},
   "outputs": [],
   "source": [
    "for k in energy_system1:\n",
    "    energy_difference = energy_system1[k] - energy_system2[k]\n",
    "    print(k,\" difference:\\t %.3f\" % energy_difference)"
   ]
  },
  {
   "cell_type": "code",
   "execution_count": null,
   "metadata": {},
   "outputs": [],
   "source": [
    "# Compare stored NB parameters\n",
    "eex.testing.dict_compare(dl_amber.list_nb_parameters(\"LJ\"), dl.list_nb_parameters(\"LJ\", itype=\"pair\"))"
   ]
  },
  {
   "cell_type": "code",
   "execution_count": null,
   "metadata": {},
   "outputs": [],
   "source": []
  },
  {
   "cell_type": "code",
   "execution_count": null,
   "metadata": {},
   "outputs": [],
   "source": [
    "# We can now write the amber file we read for lammps.\n",
    "\n",
    "eex.translators.lammps.write_lammps_file(dl_amber, \"output_lammps.data\", \"output_lammps.in\")"
   ]
  },
  {
   "cell_type": "code",
   "execution_count": null,
   "metadata": {},
   "outputs": [],
   "source": [
    "## Read the written file into a datalayer ##\n",
    "\n",
    "dl_lammps = eex.datalayer.DataLayer(\"butane_lammps\")\n",
    "eex.translators.lammps.read_lammps_input_file(dl_lammps, \"output_lammps.in\")"
   ]
  },
  {
   "cell_type": "code",
   "execution_count": null,
   "metadata": {},
   "outputs": [],
   "source": [
    "f = open(\"output_lammps.data\")\n",
    "print(f.read())\n",
    "f.close()"
   ]
  },
  {
   "cell_type": "code",
   "execution_count": null,
   "metadata": {},
   "outputs": [],
   "source": [
    "lammps_energy = dl_lammps.evaluate(utype=\"kcal * mol ** -1\")"
   ]
  },
  {
   "cell_type": "code",
   "execution_count": null,
   "metadata": {},
   "outputs": [],
   "source": [
    "# Compare energies\n",
    "for k in energy_system1:\n",
    "    energy_difference = lammps_energy[k] - energy_system2[k]\n",
    "    print(k,\" difference:\\t %.3f\" % energy_difference)"
   ]
  },
  {
   "cell_type": "code",
   "execution_count": null,
   "metadata": {},
   "outputs": [],
   "source": []
  }
 ],
 "metadata": {
  "kernelspec": {
   "display_name": "Python 3",
   "language": "python",
   "name": "python3"
  },
  "language_info": {
   "codemirror_mode": {
    "name": "ipython",
    "version": 3
   },
   "file_extension": ".py",
   "mimetype": "text/x-python",
   "name": "python",
   "nbconvert_exporter": "python",
   "pygments_lexer": "ipython3",
   "version": "3.6.3"
  }
 },
 "nbformat": 4,
 "nbformat_minor": 2
}
